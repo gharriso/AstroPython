{
 "cells": [
  {
   "cell_type": "code",
   "execution_count": 4,
   "id": "d68d145f-2100-49d3-b6fe-adf436639317",
   "metadata": {},
   "outputs": [
    {
     "name": "stdout",
     "output_type": "stream",
     "text": [
      "oid: 795871\n"
     ]
    }
   ],
   "source": [
    "from astroquery.simbad import Simbad\n",
    "from astropy.table import Table\n",
    "list_of_objects = Table([[\"M1\"]], names=[\"query_objects\"])\n",
    "query = \"\"\"--sql \n",
    "         SELECT oid FROM basic\n",
    "           JOIN TAP_UPLOAD.objectList\n",
    "           ON basic.main_id = TAP_UPLOAD.objectList.query_objects\n",
    "        \"\"\"\n",
    "output=Simbad.query_tap(query, objectList=list_of_objects)\n",
    "for row in output:\n",
    "  for key in row.keys():\n",
    "    print(f\"{key}: {row[key]}\")"
   ]
  },
  {
   "cell_type": "code",
   "execution_count": 13,
   "id": "2cf9e884",
   "metadata": {},
   "outputs": [
    {
     "name": "stdout",
     "output_type": "stream",
     "text": [
      "M   1\n",
      "795871\n"
     ]
    }
   ],
   "source": [
    "from astroquery.simbad import Simbad\n",
    "from astropy.table import Table\n",
    "object='M1'\n",
    "query = f\"\"\"--sql \n",
    "         SELECT oid , main_id FROM basic\n",
    "           Where basic.main_id = '{object}'\n",
    "        \"\"\"\n",
    "output=Simbad.query_tap(query )\n",
    "oid=output['oid'][0]\n",
    "print(output[0]['main_id'])\n",
    "print(oid)"
   ]
  },
  {
   "cell_type": "code",
   "execution_count": null,
   "id": "2873ba57",
   "metadata": {},
   "outputs": [
    {
     "name": "stdout",
     "output_type": "stream",
     "text": [
      "id: PCCS2 030 G184.54-05.78\n",
      "oidref: 795871\n",
      "id: SRGA J053431.8+220103\n",
      "oidref: 795871\n",
      "id: 3HWC J0534+220\n",
      "oidref: 795871\n",
      "id: 2HWC J0534+220\n",
      "oidref: 795871\n",
      "id: eHWC J0534+220\n",
      "oidref: 795871\n",
      "id: 1RXS J053431.2+220218\n",
      "oidref: 795871\n",
      "id: 2AGL J0534+2205\n",
      "oidref: 795871\n",
      "id: SNR G184.6-05.8\n",
      "oidref: 795871\n",
      "id: 1H 0531+219\n",
      "oidref: 795871\n",
      "id: 1M 0531+219\n",
      "oidref: 795871\n",
      "id: 2C  481\n",
      "oidref: 795871\n",
      "id: 2E  1309\n",
      "oidref: 795871\n",
      "id: 2U 0531+22\n",
      "oidref: 795871\n",
      "id: 3A 0531+219\n",
      "oidref: 795871\n",
      "id: 3C 144\n",
      "oidref: 795871\n",
      "id: 3C 144.0\n",
      "oidref: 795871\n",
      "id: 3CR 144\n",
      "oidref: 795871\n",
      "id: 3U 0531+21\n",
      "oidref: 795871\n",
      "id: 4C 21.19\n",
      "oidref: 795871\n",
      "id: 4U 0531+21\n",
      "oidref: 795871\n",
      "id: AJG   1\n",
      "oidref: 795871\n",
      "id: CTA  36\n",
      "oidref: 795871\n",
      "id: CTB 18\n",
      "oidref: 795871\n",
      "id: Cul 0531+21\n",
      "oidref: 795871\n",
      "id: Cul 0531+219\n",
      "oidref: 795871\n",
      "id: DA 179\n",
      "oidref: 795871\n",
      "id: DB  38\n",
      "oidref: 795871\n",
      "id: H 0534+21\n",
      "oidref: 795871\n",
      "id: H 0531+219\n",
      "oidref: 795871\n",
      "id: IRAS 05314+2200\n",
      "oidref: 795871\n",
      "id: LBN   833\n",
      "oidref: 795871\n",
      "id: LBN 184.62-05.65\n",
      "oidref: 795871\n",
      "id: M   1\n",
      "oidref: 795871\n",
      "id: Mills 05+2A\n",
      "oidref: 795871\n",
      "id: NAME CRAB NEB\n",
      "oidref: 795871\n",
      "id: NAME Crab\n",
      "oidref: 795871\n",
      "id: NAME Crab Nebula\n",
      "oidref: 795871\n",
      "id: NAME Tau A\n",
      "oidref: 795871\n",
      "id: NAME Taurus A\n",
      "oidref: 795871\n",
      "id: NGC  1952\n",
      "oidref: 795871\n",
      "id: NRAO 214\n",
      "oidref: 795871\n",
      "id: NRL  2\n",
      "oidref: 795871\n",
      "id: PKS 0531+219\n",
      "oidref: 795871\n",
      "id: SH  2-244\n",
      "oidref: 795871\n",
      "id: SIM 0531+21.0\n",
      "oidref: 795871\n",
      "id: VRO 21.05.01\n",
      "oidref: 795871\n",
      "id: X Tau X-1\n",
      "oidref: 795871\n",
      "id: X Tau XR-1\n",
      "oidref: 795871\n",
      "id: [BM83] X0531+219\n",
      "oidref: 795871\n",
      "id: [DGW65]  25\n",
      "oidref: 795871\n",
      "id: [PT56]  5\n",
      "oidref: 795871\n",
      "id: 1ES 0532+21.5\n",
      "oidref: 795871\n",
      "id: 2E 0531.5+2159\n",
      "oidref: 795871\n",
      "id: PBC J0534.5+2201\n",
      "oidref: 795871\n",
      "id: SWIFT J0534.6+2204\n",
      "oidref: 795871\n",
      "id: SWIFT J0534.5+2200\n",
      "oidref: 795871\n",
      "id: GRS G184.60 -05.80\n",
      "oidref: 795871\n",
      "id: W 9\n",
      "oidref: 795871\n",
      "id: NVSS J053428+220202\n",
      "oidref: 795871\n",
      "id: ARGO J0535+2203\n",
      "oidref: 795871\n",
      "id: 3FGL J0534.5+2201i\n",
      "oidref: 795871\n",
      "id: TeV J0534+220\n",
      "oidref: 795871\n",
      "id: 3FHL J0534.5+2201\n",
      "oidref: 795871\n",
      "id: 4FGL J0534.5+2201i\n",
      "oidref: 795871\n"
     ]
    }
   ],
   "source": [
    "# All alternative names \n",
    "query = f\"\"\"--sql \n",
    "         SELECT * FROM ident\n",
    "           Where oidref = '{oid}'\n",
    "        \"\"\"\n",
    "output=Simbad.query_tap(query )\n",
    "for row in output:\n",
    "  for key in row.keys():\n",
    "    print(f\"{key}: {row[key]}\")\n",
    " "
   ]
  },
  {
   "cell_type": "code",
   "execution_count": 29,
   "id": "539ba67d",
   "metadata": {},
   "outputs": [
    {
     "name": "stdout",
     "output_type": "stream",
     "text": [
      "distance=2.0 kpc \n"
     ]
    }
   ],
   "source": [
    "# distance  \n",
    "query = f\"\"\"--sql \n",
    "         SELECT dist,unit FROM mesDistance\n",
    "           Where oidref = '{oid}'\n",
    "        \"\"\"\n",
    "output=Simbad.query_tap(query )\n",
    "distance=output['dist'][0]\n",
    "unit=output['unit'][0]  \n",
    "print(f\"distance={distance} {unit}\")"
   ]
  },
  {
   "cell_type": "code",
   "execution_count": 27,
   "id": "13b5c87a",
   "metadata": {},
   "outputs": [
    {
     "ename": "DALQueryError",
     "evalue": "Incorrect ADQL query:  Encountered \"=\". Was expecting one of: \")\" \".\" \",\" \".\" \",\" \")\" \")\" \")\" \")\" \")\" \")\" \")\" \")\" \")\" \")\" \")\" \")\" \")\" \")\" \")\" \")\" \")\" \")\" \")\" \")\" \")\" \")\" \")\" \")\" \")\" \")\" \")\" \")\" \")\" \")\" \")\" \")\" \")\" \")\" \")\" \".\" \".\" \",\" \")\" \")\" \")\" \")\" \".\" \".\"",
     "output_type": "error",
     "traceback": [
      "\u001b[0;31m---------------------------------------------------------------------------\u001b[0m",
      "\u001b[0;31mDALQueryError\u001b[0m                             Traceback (most recent call last)",
      "Cell \u001b[0;32mIn[27], line 8\u001b[0m\n\u001b[1;32m      1\u001b[0m \u001b[38;5;66;03m# distances  \u001b[39;00m\n\u001b[1;32m      2\u001b[0m \u001b[38;5;66;03m# \u001b[39;00m\n\u001b[1;32m      3\u001b[0m query \u001b[38;5;241m=\u001b[39m \u001b[38;5;124mf\u001b[39m\u001b[38;5;124m\"\"\"\u001b[39m\u001b[38;5;124m--sql \u001b[39m\n\u001b[1;32m      4\u001b[0m \u001b[38;5;124m     SELECT TOP 50 dist,unit,\u001b[39m\n\u001b[1;32m      5\u001b[0m \u001b[38;5;124m     IF(unit=\u001b[39m\u001b[38;5;124m'\u001b[39m\u001b[38;5;124mpc\u001b[39m\u001b[38;5;124m'\u001b[39m\u001b[38;5;124m, dist,null) as dist_pc,\u001b[39m\n\u001b[1;32m      6\u001b[0m \u001b[38;5;124m       FROM mesDistance\u001b[39m\n\u001b[1;32m      7\u001b[0m \u001b[38;5;124m    \u001b[39m\u001b[38;5;124m\"\"\"\u001b[39m\n\u001b[0;32m----> 8\u001b[0m output\u001b[38;5;241m=\u001b[39m\u001b[43mSimbad\u001b[49m\u001b[38;5;241;43m.\u001b[39;49m\u001b[43mquery_tap\u001b[49m\u001b[43m(\u001b[49m\u001b[43mquery\u001b[49m\u001b[43m \u001b[49m\u001b[43m)\u001b[49m\n\u001b[1;32m      9\u001b[0m \u001b[38;5;28mprint\u001b[39m(output)\n\u001b[1;32m     10\u001b[0m query \u001b[38;5;241m=\u001b[39m \u001b[38;5;124mf\u001b[39m\u001b[38;5;124m\"\"\"\u001b[39m\u001b[38;5;124m--sql \u001b[39m\n\u001b[1;32m     11\u001b[0m \u001b[38;5;124m         SELECT DISTINCT unit FROM mesDistance\u001b[39m\n\u001b[1;32m     12\u001b[0m \u001b[38;5;124m        \u001b[39m\u001b[38;5;124m\"\"\"\u001b[39m\n",
      "File \u001b[0;32m~/.pyenv/versions/3.12.6/lib/python3.12/site-packages/astroquery/simbad/core.py:1446\u001b[0m, in \u001b[0;36mSimbadClass.query_tap\u001b[0;34m(self, query, maxrec, get_query_payload, **uploads)\u001b[0m\n\u001b[1;32m   1444\u001b[0m \u001b[38;5;66;03m# without uploads we call the version with cache\u001b[39;00m\n\u001b[1;32m   1445\u001b[0m \u001b[38;5;28;01mif\u001b[39;00m uploads \u001b[38;5;241m==\u001b[39m {}:\n\u001b[0;32m-> 1446\u001b[0m     \u001b[38;5;28;01mreturn\u001b[39;00m \u001b[43m_cached_query_tap\u001b[49m\u001b[43m(\u001b[49m\u001b[38;5;28;43mself\u001b[39;49m\u001b[38;5;241;43m.\u001b[39;49m\u001b[43mtap\u001b[49m\u001b[43m,\u001b[49m\u001b[43m \u001b[49m\u001b[43mquery\u001b[49m\u001b[43m,\u001b[49m\u001b[43m \u001b[49m\u001b[43mmaxrec\u001b[49m\u001b[38;5;241;43m=\u001b[39;49m\u001b[43mmaxrec\u001b[49m\u001b[43m)\u001b[49m\n\u001b[1;32m   1447\u001b[0m \u001b[38;5;66;03m# with uploads it has to be without cache\u001b[39;00m\n\u001b[1;32m   1448\u001b[0m \u001b[38;5;28;01mreturn\u001b[39;00m \u001b[38;5;28mself\u001b[39m\u001b[38;5;241m.\u001b[39mtap\u001b[38;5;241m.\u001b[39mrun_async(query, maxrec\u001b[38;5;241m=\u001b[39mmaxrec, uploads\u001b[38;5;241m=\u001b[39muploads)\u001b[38;5;241m.\u001b[39mto_table()\n",
      "File \u001b[0;32m~/.pyenv/versions/3.12.6/lib/python3.12/site-packages/astroquery/simbad/core.py:75\u001b[0m, in \u001b[0;36m_cached_query_tap\u001b[0;34m(tap, query, maxrec)\u001b[0m\n\u001b[1;32m     51\u001b[0m \u001b[38;5;129m@lru_cache\u001b[39m(\u001b[38;5;241m256\u001b[39m)\n\u001b[1;32m     52\u001b[0m \u001b[38;5;28;01mdef\u001b[39;00m\u001b[38;5;250m \u001b[39m\u001b[38;5;21m_cached_query_tap\u001b[39m(tap, query: \u001b[38;5;28mstr\u001b[39m, \u001b[38;5;241m*\u001b[39m, maxrec\u001b[38;5;241m=\u001b[39m\u001b[38;5;241m10000\u001b[39m):\n\u001b[1;32m     53\u001b[0m \u001b[38;5;250m    \u001b[39m\u001b[38;5;124;03m\"\"\"Cache version of query TAP.\u001b[39;00m\n\u001b[1;32m     54\u001b[0m \n\u001b[1;32m     55\u001b[0m \u001b[38;5;124;03m    This private function is called when query_tap is executed without an\u001b[39;00m\n\u001b[0;32m   (...)\u001b[0m\n\u001b[1;32m     73\u001b[0m \u001b[38;5;124;03m        The response returned by SIMBAD.\u001b[39;00m\n\u001b[1;32m     74\u001b[0m \u001b[38;5;124;03m    \"\"\"\u001b[39;00m\n\u001b[0;32m---> 75\u001b[0m     \u001b[38;5;28;01mreturn\u001b[39;00m \u001b[43mtap\u001b[49m\u001b[38;5;241;43m.\u001b[39;49m\u001b[43msearch\u001b[49m\u001b[43m(\u001b[49m\u001b[43mquery\u001b[49m\u001b[43m,\u001b[49m\u001b[43m \u001b[49m\u001b[43mmaxrec\u001b[49m\u001b[38;5;241;43m=\u001b[39;49m\u001b[43mmaxrec\u001b[49m\u001b[43m)\u001b[49m\u001b[38;5;241m.\u001b[39mto_table()\n",
      "File \u001b[0;32m~/.pyenv/versions/3.12.6/lib/python3.12/site-packages/pyvo/dal/tap.py:278\u001b[0m, in \u001b[0;36mTAPService.run_sync\u001b[0;34m(self, query, language, maxrec, uploads, **keywords)\u001b[0m\n\u001b[1;32m    249\u001b[0m \u001b[38;5;28;01mdef\u001b[39;00m\u001b[38;5;250m \u001b[39m\u001b[38;5;21mrun_sync\u001b[39m(\n\u001b[1;32m    250\u001b[0m         \u001b[38;5;28mself\u001b[39m, query, \u001b[38;5;241m*\u001b[39m, language\u001b[38;5;241m=\u001b[39m\u001b[38;5;124m\"\u001b[39m\u001b[38;5;124mADQL\u001b[39m\u001b[38;5;124m\"\u001b[39m, maxrec\u001b[38;5;241m=\u001b[39m\u001b[38;5;28;01mNone\u001b[39;00m, uploads\u001b[38;5;241m=\u001b[39m\u001b[38;5;28;01mNone\u001b[39;00m,\n\u001b[1;32m    251\u001b[0m         \u001b[38;5;241m*\u001b[39m\u001b[38;5;241m*\u001b[39mkeywords):\n\u001b[1;32m    252\u001b[0m \u001b[38;5;250m    \u001b[39m\u001b[38;5;124;03m\"\"\"\u001b[39;00m\n\u001b[1;32m    253\u001b[0m \u001b[38;5;124;03m    runs sync query and returns its result\u001b[39;00m\n\u001b[1;32m    254\u001b[0m \n\u001b[0;32m   (...)\u001b[0m\n\u001b[1;32m    274\u001b[0m \u001b[38;5;124;03m    TAPResults\u001b[39;00m\n\u001b[1;32m    275\u001b[0m \u001b[38;5;124;03m    \"\"\"\u001b[39;00m\n\u001b[1;32m    276\u001b[0m     \u001b[38;5;28;01mreturn\u001b[39;00m \u001b[38;5;28;43mself\u001b[39;49m\u001b[38;5;241;43m.\u001b[39;49m\u001b[43mcreate_query\u001b[49m\u001b[43m(\u001b[49m\n\u001b[1;32m    277\u001b[0m \u001b[43m        \u001b[49m\u001b[43mquery\u001b[49m\u001b[43m,\u001b[49m\u001b[43m \u001b[49m\u001b[43mlanguage\u001b[49m\u001b[38;5;241;43m=\u001b[39;49m\u001b[43mlanguage\u001b[49m\u001b[43m,\u001b[49m\u001b[43m \u001b[49m\u001b[43mmaxrec\u001b[49m\u001b[38;5;241;43m=\u001b[39;49m\u001b[43mmaxrec\u001b[49m\u001b[43m,\u001b[49m\u001b[43m \u001b[49m\u001b[43muploads\u001b[49m\u001b[38;5;241;43m=\u001b[39;49m\u001b[43muploads\u001b[49m\u001b[43m,\u001b[49m\n\u001b[0;32m--> 278\u001b[0m \u001b[43m        \u001b[49m\u001b[38;5;241;43m*\u001b[39;49m\u001b[38;5;241;43m*\u001b[39;49m\u001b[43mkeywords\u001b[49m\u001b[43m)\u001b[49m\u001b[38;5;241;43m.\u001b[39;49m\u001b[43mexecute\u001b[49m\u001b[43m(\u001b[49m\u001b[43m)\u001b[49m\n",
      "File \u001b[0;32m~/.pyenv/versions/3.12.6/lib/python3.12/site-packages/pyvo/dal/tap.py:1117\u001b[0m, in \u001b[0;36mTAPQuery.execute\u001b[0;34m(self)\u001b[0m\n\u001b[1;32m   1103\u001b[0m \u001b[38;5;28;01mdef\u001b[39;00m\u001b[38;5;250m \u001b[39m\u001b[38;5;21mexecute\u001b[39m(\u001b[38;5;28mself\u001b[39m):\n\u001b[1;32m   1104\u001b[0m \u001b[38;5;250m    \u001b[39m\u001b[38;5;124;03m\"\"\"\u001b[39;00m\n\u001b[1;32m   1105\u001b[0m \u001b[38;5;124;03m    submit the query and return the results as a TAPResults instance\u001b[39;00m\n\u001b[1;32m   1106\u001b[0m \n\u001b[0;32m   (...)\u001b[0m\n\u001b[1;32m   1115\u001b[0m \u001b[38;5;124;03m       for errors parsing the VOTable response\u001b[39;00m\n\u001b[1;32m   1116\u001b[0m \u001b[38;5;124;03m    \"\"\"\u001b[39;00m\n\u001b[0;32m-> 1117\u001b[0m     \u001b[38;5;28;01mreturn\u001b[39;00m \u001b[43mTAPResults\u001b[49m\u001b[43m(\u001b[49m\u001b[38;5;28;43mself\u001b[39;49m\u001b[38;5;241;43m.\u001b[39;49m\u001b[43mexecute_votable\u001b[49m\u001b[43m(\u001b[49m\u001b[43m)\u001b[49m\u001b[43m,\u001b[49m\u001b[43m \u001b[49m\u001b[43murl\u001b[49m\u001b[38;5;241;43m=\u001b[39;49m\u001b[38;5;28;43mself\u001b[39;49m\u001b[38;5;241;43m.\u001b[39;49m\u001b[43mqueryurl\u001b[49m\u001b[43m,\u001b[49m\u001b[43m \u001b[49m\u001b[43msession\u001b[49m\u001b[38;5;241;43m=\u001b[39;49m\u001b[38;5;28;43mself\u001b[39;49m\u001b[38;5;241;43m.\u001b[39;49m\u001b[43m_session\u001b[49m\u001b[43m)\u001b[49m\n",
      "File \u001b[0;32m~/.pyenv/versions/3.12.6/lib/python3.12/site-packages/pyvo/dal/adhoc.py:111\u001b[0m, in \u001b[0;36mAdhocServiceResultsMixin.__init__\u001b[0;34m(self, votable, url, session)\u001b[0m\n\u001b[1;32m    110\u001b[0m \u001b[38;5;28;01mdef\u001b[39;00m\u001b[38;5;250m \u001b[39m\u001b[38;5;21m__init__\u001b[39m(\u001b[38;5;28mself\u001b[39m, votable, \u001b[38;5;241m*\u001b[39m, url\u001b[38;5;241m=\u001b[39m\u001b[38;5;28;01mNone\u001b[39;00m, session\u001b[38;5;241m=\u001b[39m\u001b[38;5;28;01mNone\u001b[39;00m):\n\u001b[0;32m--> 111\u001b[0m     \u001b[38;5;28;43msuper\u001b[39;49m\u001b[43m(\u001b[49m\u001b[43m)\u001b[49m\u001b[38;5;241;43m.\u001b[39;49m\u001b[38;5;21;43m__init__\u001b[39;49m\u001b[43m(\u001b[49m\u001b[43mvotable\u001b[49m\u001b[43m,\u001b[49m\u001b[43m \u001b[49m\u001b[43murl\u001b[49m\u001b[38;5;241;43m=\u001b[39;49m\u001b[43murl\u001b[49m\u001b[43m,\u001b[49m\u001b[43m \u001b[49m\u001b[43msession\u001b[49m\u001b[38;5;241;43m=\u001b[39;49m\u001b[43msession\u001b[49m\u001b[43m)\u001b[49m\n\u001b[1;32m    112\u001b[0m     \u001b[38;5;28mself\u001b[39m\u001b[38;5;241m.\u001b[39m_adhocservices \u001b[38;5;241m=\u001b[39m \u001b[38;5;28mlist\u001b[39m(\n\u001b[1;32m    113\u001b[0m         resource \u001b[38;5;28;01mfor\u001b[39;00m resource \u001b[38;5;129;01min\u001b[39;00m votable\u001b[38;5;241m.\u001b[39mresources\n\u001b[1;32m    114\u001b[0m         \u001b[38;5;28;01mif\u001b[39;00m resource\u001b[38;5;241m.\u001b[39mtype \u001b[38;5;241m==\u001b[39m \u001b[38;5;124m\"\u001b[39m\u001b[38;5;124mmeta\u001b[39m\u001b[38;5;124m\"\u001b[39m \u001b[38;5;129;01mand\u001b[39;00m resource\u001b[38;5;241m.\u001b[39mutype \u001b[38;5;241m==\u001b[39m \u001b[38;5;124m\"\u001b[39m\u001b[38;5;124madhoc:service\u001b[39m\u001b[38;5;124m\"\u001b[39m\n\u001b[1;32m    115\u001b[0m     )\n",
      "File \u001b[0;32m~/.pyenv/versions/3.12.6/lib/python3.12/site-packages/pyvo/dal/query.py:336\u001b[0m, in \u001b[0;36mDALResults.__init__\u001b[0;34m(self, votable, url, session)\u001b[0m\n\u001b[1;32m    334\u001b[0m \u001b[38;5;28mself\u001b[39m\u001b[38;5;241m.\u001b[39m_status \u001b[38;5;241m=\u001b[39m \u001b[38;5;28mself\u001b[39m\u001b[38;5;241m.\u001b[39m_findstatus(votable)\n\u001b[1;32m    335\u001b[0m \u001b[38;5;28;01mif\u001b[39;00m \u001b[38;5;28mself\u001b[39m\u001b[38;5;241m.\u001b[39m_status[\u001b[38;5;241m0\u001b[39m]\u001b[38;5;241m.\u001b[39mlower() \u001b[38;5;129;01mnot\u001b[39;00m \u001b[38;5;129;01min\u001b[39;00m (\u001b[38;5;124m\"\u001b[39m\u001b[38;5;124mok\u001b[39m\u001b[38;5;124m\"\u001b[39m, \u001b[38;5;124m\"\u001b[39m\u001b[38;5;124moverflow\u001b[39m\u001b[38;5;124m\"\u001b[39m):\n\u001b[0;32m--> 336\u001b[0m     \u001b[38;5;28;01mraise\u001b[39;00m DALQueryError(\u001b[38;5;28mself\u001b[39m\u001b[38;5;241m.\u001b[39m_status[\u001b[38;5;241m1\u001b[39m], \u001b[38;5;28mself\u001b[39m\u001b[38;5;241m.\u001b[39m_status[\u001b[38;5;241m0\u001b[39m], url)\n\u001b[1;32m    338\u001b[0m \u001b[38;5;28;01mif\u001b[39;00m \u001b[38;5;28mself\u001b[39m\u001b[38;5;241m.\u001b[39m_status[\u001b[38;5;241m0\u001b[39m]\u001b[38;5;241m.\u001b[39mlower() \u001b[38;5;241m==\u001b[39m \u001b[38;5;124m\"\u001b[39m\u001b[38;5;124moverflow\u001b[39m\u001b[38;5;124m\"\u001b[39m:\n\u001b[1;32m    339\u001b[0m     warn(\u001b[38;5;124m\"\u001b[39m\u001b[38;5;124mPartial result set. Potential causes MAXREC, async storage space, etc.\u001b[39m\u001b[38;5;124m\"\u001b[39m,\n\u001b[1;32m    340\u001b[0m          category\u001b[38;5;241m=\u001b[39mDALOverflowWarning)\n",
      "\u001b[0;31mDALQueryError\u001b[0m: Incorrect ADQL query:  Encountered \"=\". Was expecting one of: \")\" \".\" \",\" \".\" \",\" \")\" \")\" \")\" \")\" \")\" \")\" \")\" \")\" \")\" \")\" \")\" \")\" \")\" \")\" \")\" \")\" \")\" \")\" \")\" \")\" \")\" \")\" \")\" \")\" \")\" \")\" \")\" \")\" \")\" \")\" \")\" \")\" \")\" \")\" \")\" \".\" \".\" \",\" \")\" \")\" \")\" \")\" \".\" \".\""
     ]
    }
   ],
   "source": [
    "# distances  \n",
    "# \n",
    "query = f\"\"\"--sql \n",
    "     SELECT TOP 50 dist,unit,\n",
    "     IF(unit='pc', dist,null) as dist_pc,\n",
    "       FROM mesDistance\n",
    "    \"\"\"\n",
    "output=Simbad.query_tap(query )\n",
    "print(output)\n",
    "query = f\"\"\"--sql \n",
    "         SELECT DISTINCT unit FROM mesDistance\n",
    "        \"\"\"\n",
    "output=Simbad.query_tap(query )\n",
    "print(output)"
   ]
  },
  {
   "cell_type": "code",
   "execution_count": null,
   "id": "fc3f3c2a",
   "metadata": {},
   "outputs": [],
   "source": [
    "from astroquery.simbad import Simbad\n",
    "from astropy.table import Table\n",
    "list_of_objects = Table([[\"M1\"]], names=[\"Messier_objects\"])\n",
    "query = \"\"\"--sql \n",
    "         SELECT ident.* FROM basic\n",
    "           JOIN TAP_UPLOAD.messiers\n",
    "           ON basic.main_id = TAP_UPLOAD.messiers.Messier_objects\n",
    "           JOIN ident ON basic.oid = ident.oidref\n",
    "           LEFT OUTER JOIN mesDistance ON (mesDistance.oidref = basic.oid)\n",
    "        \"\"\"\n",
    "output=Simbad.query_tap(query, messiers=list_of_objects)\n",
    "for row in output:\n",
    "  for key in row.keys():\n",
    "    print(f\"{key}: {row[key]}\")"
   ]
  }
 ],
 "metadata": {
  "kernelspec": {
   "display_name": "Python 3 (ipykernel)",
   "language": "python",
   "name": "python3"
  },
  "language_info": {
   "codemirror_mode": {
    "name": "ipython",
    "version": 3
   },
   "file_extension": ".py",
   "mimetype": "text/x-python",
   "name": "python",
   "nbconvert_exporter": "python",
   "pygments_lexer": "ipython3",
   "version": "3.12.6"
  }
 },
 "nbformat": 4,
 "nbformat_minor": 5
}
